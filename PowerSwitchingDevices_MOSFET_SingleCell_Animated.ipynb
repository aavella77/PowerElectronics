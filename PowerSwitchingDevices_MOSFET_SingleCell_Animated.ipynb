{
  "nbformat": 4,
  "nbformat_minor": 0,
  "metadata": {
    "colab": {
      "provenance": [],
      "include_colab_link": true
    },
    "kernelspec": {
      "name": "python3",
      "display_name": "Python 3"
    }
  },
  "cells": [
    {
      "cell_type": "markdown",
      "metadata": {
        "id": "view-in-github",
        "colab_type": "text"
      },
      "source": [
        "<a href=\"https://colab.research.google.com/github/bingsen-wang/PowerElectronics/blob/main/PowerSwitchingDevices_MOSFET_SingleCell_Animated.ipynb\" target=\"_parent\"><img src=\"https://colab.research.google.com/assets/colab-badge.svg\" alt=\"Open In Colab\"/></a>"
      ]
    },
    {
      "cell_type": "markdown",
      "metadata": {
        "id": "jAMKoELNpsK-"
      },
      "source": [
        "<center><h1><b>Sturctures of Power MOSFETs: Single Cell Animated\n",
        "</h1></b>\n",
        "\n",
        "Dr. Bingsen Wang\n",
        "\n",
        "1/3/2024\n",
        "</center>"
      ]
    },
    {
      "cell_type": "markdown",
      "metadata": {
        "id": "Hv0YxDrWU4h8"
      },
      "source": [
        "#Python Code\n",
        "The Python code illustrates the various structure of Single-Cell power MOSFET."
      ]
    },
    {
      "cell_type": "code",
      "execution_count": 41,
      "metadata": {
        "id": "XeGsHYTt8IXU",
        "colab": {
          "base_uri": "https://localhost:8080/",
          "height": 843
        },
        "outputId": "d104c276-2642-46c8-a3d6-c9b5734f6085"
      },
      "outputs": [
        {
          "output_type": "stream",
          "name": "stdout",
          "text": [
            "0\n",
            "1\n",
            "2\n",
            "3\n",
            "4\n"
          ]
        },
        {
          "output_type": "display_data",
          "data": {
            "text/plain": [
              "<Figure size 900x900 with 1 Axes>"
            ],
            "image/png": "[encoded data removed]"
          },
          "metadata": {}
        }
      ],
      "source": [
        "from os import linesep\n",
        "from numpy import linspace,logspace,exp,log,fft,pi,arccos,cos,heaviside\n",
        "import matplotlib as mpl\n",
        "from matplotlib import animation\n",
        "import matplotlib.patches as mp\n",
        "from matplotlib.path import Path\n",
        "\n",
        "mpl.pyplot.rcParams.update({\"font.family\":\"serif\", \"mathtext.fontset\":\"cm\"})\n",
        "mpl.rc('animation', html='jshtml')\n",
        "#color palette\n",
        "tcb10 = {\"darkblue\":\"#006BA4\", \"orange\":\"#FF800E\", \"lightgray\":\"#ABABAB\",\n",
        "         \"darkgray\":\"#595959\", \"blue\":\"#5F9ED1\", \"darkorange\":\"#C85200\",\n",
        "         \"gray\":\"#898989\", \"lightblue\":\"#A2C2EC\", \"lightorange\":\"#FFBC79\",\n",
        "         \"lightgrey\":\"#CFCFCF\"} #tableau color blind 10\n",
        "\n",
        "\n",
        "def MOSFET1Cell(ax,xy,h,k_epi,k_source,k_body,w,lw,colors,alpha_ter,\n",
        "                       alpha_m,alpha_b,alpha_s,alpha_epi,alpha_ox):\n",
        "  x0,y0=xy\n",
        "  h_sb = .25*h #substrate tickness, not drawn to scale\n",
        "  h_epi = .75*h*k_epi #expi layer thickness, not drawn to scale\n",
        "  h_b = .2*h*k_body #body thickness, not drawn to scale\n",
        "  h_s = 0.5*h_b*k_source #source thickness, not drawn to scale\n",
        "  h_ox = 0.04*h #oxide thickness, not drawn to scale\n",
        "  h_m = .3*h_ox #metal thickness, not drawn to scale\n",
        "  w_b = .4*w #body width, not drawn to scale\n",
        "  w_s = 0.6*w_b #source width, not drawn to scale\n",
        "  w_ox = 0.4*w #oxide width, not drawn to scale\n",
        "  l_t = 0.15*h #termnal length\n",
        "  r_t = .01*w #terminal circle radius\n",
        "\n",
        "  c_sb = colors[0] #substrate color\n",
        "  # c_sb = mpl.colors.to_rgba(colors[0],0.5) #substrate color\n",
        "  c_epi = colors[4] #epi layer color\n",
        "  # c_epi = mpl.colors.to_rgba(colors[0],0.2) #epi layer color\n",
        "  c_b = colors[5] #p-body color\n",
        "  c_s = c_sb #source color\n",
        "  c_ox = mpl.colors.to_rgba(colors[8],alpha_ox) #oxide color\n",
        "  c_m =mpl.colors.to_rgba(colors[-2],alpha_m) #metal color\n",
        "  c_txt_ter = mpl.colors.to_rgba(colors[-2],alpha_ter) #text color: terminal\n",
        "  c_txt_epi = mpl.colors.to_rgba(colors[-2],alpha_epi) #text color: epi\n",
        "  c_txt_b = mpl.colors.to_rgba(colors[-2],alpha_b) #text color: body\n",
        "  c_txt_s = mpl.colors.to_rgba(colors[-2],alpha_s) #text color: source\n",
        "  c_ter = mpl.colors.to_rgba(colors[-2],alpha_ter) #terminal color\n",
        "  ax.add_patch(mp.Rectangle(xy,w,h_sb,ec='none',fc=c_sb)) #substrate\n",
        "  ax.add_patch(mp.Rectangle((x0,y0+h_sb),w,h_epi,ec='none',fc=c_epi)) #epi\n",
        "  for i in range(2): #body and source wells\n",
        "    #body\n",
        "    x_b = x0+ (w- w_b)*i\n",
        "    y_b = y0+h-h_b #y location of body\n",
        "    p1 = ax.add_patch(mp.FancyBboxPatch((x_b,y_b),w_b,h_b,ec='none',fc=c_b))\n",
        "    p1.set_boxstyle('round',pad=0,rounding_size=.3*h_b)\n",
        "    ax.add_patch(mp.Rectangle((x_b,y_b+h_b*.5),w_b,h_b*.5,ec='none',fc=c_b))\n",
        "    ax.add_patch(mp.Rectangle((x_b+i*.5*w_b,y_b),w_b*.5,h_b,ec='none',fc=c_b))\n",
        "    #source\n",
        "    x_s = x_b+.5*(w_b - w_s)\n",
        "    y_s =  y0+h-h_s #y location of source\n",
        "    p2 = ax.add_patch(mp.FancyBboxPatch((x_s,y_s),w_s,h_s,ec='none',fc=c_s))\n",
        "    p2.set_boxstyle('round',pad=0,rounding_size=.45*h_s)\n",
        "    ax.add_patch(mp.Rectangle((x_s,y_s+h_s*.5),w_s,h_s*.5,ec='none',fc=c_s))\n",
        "  ax.add_patch(mp.Rectangle((x0+0.5*w-0.5*w_ox,y0+h),w_ox,h_ox,ec='none',fc=c_ox)) #oxide\n",
        "  ax.add_patch(mp.Rectangle((x0,y0-h_m),w,h_m,ec='none',fc=c_m)) #drain metal\n",
        "  ax.add_patch(mp.Rectangle((x0,y0+h),(w-w_ox)*.5,h_m,ec='none',fc=c_m)) #source metal\n",
        "  ax.add_patch(mp.Rectangle((x0+.5*w+.5*w_ox,y0+h),(w-w_ox)*.5,h_m,ec='none',fc=c_m)) #source metal\n",
        "  ax.add_patch(mp.Rectangle((x0+0.5*w-0.5*w_ox,y0+h+h_ox),w_ox,h_m,ec='none',fc=c_m)) #gate metal\n",
        "  ax.text(x0+.5*w,y0+.5*h_sb,'$n^+$ Substrate',size=18,ha='center',va='center')\n",
        "  ax.text(x0+.5*w,y0+h_sb+.5*h_epi,'$n^-$ Drift Region',size=18,ha='center',va='center',color=c_txt_epi)\n",
        "  for i in range(2):\n",
        "    ax.text(x0+.5*w_b+i*(w-w_b),y0+h-h_b,'$p$ Body',size=18,ha='center',va='bottom',color=c_txt_b)\n",
        "    ax.text(x0+.5*w_b+i*(w-w_b),y0+h-.5*h_s,'$n^+$',size=18,ha='center',va='center',color=c_txt_s)\n",
        "  #terminals\n",
        "  args = dict({'lw':lw,'capstyle':'round','fc':'none','ec':c_ter})\n",
        "  #gate\n",
        "  pg=mp.PathPatch(Path([(x0+.5*w,y0+h+h_ox+h_m),(x0+.5*w,y0+h+h_ox+l_t)],[Path.MOVETO,Path.LINETO]),\n",
        "                  **args)\n",
        "  ax.add_patch(pg)\n",
        "  ax.add_patch(mp.Circle((x0+.5*w,y0+h+h_ox+l_t),r_t,**args))\n",
        "  ax.text(x0+.5*w,y0+h+h_ox+l_t+r_t,'Gate',size=22,ha='center',va='bottom',color=c_txt_ter)\n",
        "\n",
        "  #drain\n",
        "  ps=mp.PathPatch(Path([(x0+.5*w,y0-h_m),(x0+.5*w,y0-l_t)],[Path.MOVETO,Path.LINETO]),\n",
        "                  **args)\n",
        "  ax.add_patch(ps)\n",
        "  ax.add_patch(mp.Circle((x0+.5*w,y0-l_t),r_t,**args))\n",
        "  ax.text(x0+.5*w,y0-l_t-r_t,'Drain',size=22,ha='center',va='top',color=c_txt_ter)\n",
        "  #source\n",
        "  ps=mp.PathPatch(Path([(x0+w-.5*w_b,y0+h+h_m),(x0+w-.5*w_b,y0+h+.8*l_t),(x0+.5*w_b,y0+h+.8*l_t),\n",
        "   (x0+.5*w_b,y0+h+h_m),(x0+.5*w_b,y0+h+1.2*l_t)],\n",
        "   [Path.MOVETO,Path.LINETO,Path.LINETO, Path.MOVETO,Path.LINETO]),**args)\n",
        "  ax.add_patch(ps)\n",
        "  ax.add_patch(mp.Circle((x0+.5*w_b,y0+h+1.2*l_t),.01*w,**args))\n",
        "  ax.text(x0+.5*w_b,y0+h+1.2*l_t+r_t,'Source',size=22,ha='center',va='bottom',color=c_txt_ter)\n",
        "  return\n",
        "\n",
        "#parameters\n",
        "clst=[tcb10['darkblue'],tcb10['darkorange'],tcb10['blue'],tcb10['orange'],\n",
        "      tcb10['lightblue'],tcb10['lightorange'],tcb10['darkgray'],\n",
        "      tcb10['gray'],tcb10['lightgrey'],'k','w'] #colors light bg\n",
        "# clst=[tcb10['darkblue'],tcb10['darkorange'],tcb10['blue'],tcb10['orange'],\n",
        "#       tcb10['lightblue'],tcb10['lightorange'],tcb10['darkgray'],\n",
        "#       tcb10['gray'],tcb10['lightgrey'],'w',(.1,.1,.1)] #colors dark bg\n",
        "Nf = 200\n",
        "t=linspace(0,1,Nf)\n",
        "\n",
        "#set up figures\n",
        "fig = mpl.pyplot.figure(figsize=(9,9),facecolor=clst[-1])\n",
        "ax_frame = [[0, 0, 1, 1], [0,1], [0,1]]# [pos-boundary, xlim, ylim]\n",
        "xn,xm,yn,ym = ax_frame[1]+ax_frame[2]\n",
        "ax=fig.add_axes(ax_frame[0],xlim=ax_frame[1], ylim=ax_frame[2],fc='none',) #no face color\n",
        "ax.axis('off')\n",
        "# animation function. This is called sequentially\n",
        "def animate(i):\n",
        "  ax.clear()\n",
        "  ax.axis('off')\n",
        "  ii = i%Nf\n",
        "  k = i//Nf\n",
        "  if ii==Nf-1:\n",
        "    print(k)\n",
        "  if k==0:\n",
        "    args={'h':.6, 'w':.95, 'colors':clst,'lw':2,'alpha_ter':0, 'alpha_m':0,'alpha_ox':0,\n",
        "      'alpha_epi':0, 'alpha_s':0,'alpha_b':0,\n",
        "      'k_epi':t[ii],'k_source':0,'k_body':0}\n",
        "    if ii==Nf-1:\n",
        "      args={'h':.6, 'w':.95, 'colors':clst,'lw':2,'alpha_ter':0, 'alpha_m':0,'alpha_ox':0,\n",
        "      'alpha_epi':1, 'alpha_s':0,'alpha_b':0,\n",
        "      'k_epi':t[ii],'k_source':0,'k_body':0}\n",
        "  if k==1:\n",
        "    args={'h':.6, 'w':.95, 'colors':clst,'lw':2,'alpha_ter':0, 'alpha_m':0,'alpha_ox':0,\n",
        "      'alpha_epi':1, 'alpha_s':0,'alpha_b':0,\n",
        "      'k_epi':1,'k_source':0,'k_body':t[ii]}\n",
        "    if ii==Nf-1:\n",
        "      args={'h':.6, 'w':.95, 'colors':clst,'lw':2,'alpha_ter':0, 'alpha_m':0,'alpha_ox':0,\n",
        "      'alpha_epi':1, 'alpha_s':0,'alpha_b':1,\n",
        "      'k_epi':1,'k_source':0,'k_body':t[ii]}\n",
        "  if k==2:\n",
        "    args={'h':.6, 'w':.95, 'colors':clst,'lw':2,'alpha_ter':0, 'alpha_m':0,'alpha_ox':0,\n",
        "      'alpha_epi':1, 'alpha_s':0,'alpha_b':1,\n",
        "      'k_epi':1,'k_source':t[ii],'k_body':1}\n",
        "    if ii==Nf-1:\n",
        "      args={'h':.6, 'w':.95, 'colors':clst,'lw':2,'alpha_ter':0, 'alpha_m':0,'alpha_ox':0,\n",
        "      'alpha_epi':1, 'alpha_s':1,'alpha_b':1,\n",
        "      'k_epi':1,'k_source':t[ii],'k_body':1}\n",
        "  if k==3:\n",
        "    args={'h':.6, 'w':.95, 'colors':clst,'lw':2,'alpha_ter':0, 'alpha_m':t[ii],'alpha_ox':t[ii],\n",
        "      'alpha_epi':1, 'alpha_s':1,'alpha_b':1,\n",
        "      'k_epi':1,'k_source':1,'k_body':1}\n",
        "  if k==4:\n",
        "    args={'h':.6, 'w':.95, 'colors':clst,'lw':2,'alpha_ter':t[ii], 'alpha_m':1,'alpha_ox':1,\n",
        "      'alpha_epi':1, 'alpha_s':1,'alpha_b':1,\n",
        "      'k_epi':1,'k_source':1,'k_body':1}\n",
        "\n",
        "  MOSFET1Cell(ax,(0.025,.2),**args)\n",
        "  return\n",
        "anim = animation.FuncAnimation(fig, animate, frames=Nf*5, interval=100)\n",
        "# anim #uncomment to generate animation in the output area\n",
        "anim.save(\"MOSFET_structure_animated.mp4\", fps=50, dpi = 120) #uncomment to save"
      ]
    }
  ]
}