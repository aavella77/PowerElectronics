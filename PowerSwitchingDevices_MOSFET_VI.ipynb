{
  "nbformat": 4,
  "nbformat_minor": 0,
  "metadata": {
    "colab": {
      "provenance": [],
      "include_colab_link": true
    },
    "kernelspec": {
      "name": "python3",
      "display_name": "Python 3"
    }
  },
  "cells": [
    {
      "cell_type": "markdown",
      "metadata": {
        "id": "view-in-github",
        "colab_type": "text"
      },
      "source": [
        "<a href=\"https://colab.research.google.com/github/bingsen-wang/PowerElectronics/blob/main/PowerSwitchingDevices_MOSFET_VI.ipynb\" target=\"_parent\"><img src=\"https://colab.research.google.com/assets/colab-badge.svg\" alt=\"Open In Colab\"/></a>"
      ]
    },
    {
      "cell_type": "markdown",
      "metadata": {
        "id": "jAMKoELNpsK-"
      },
      "source": [
        "<center><h1><b>V-I Characteristics of Power MOSFET\n",
        "</h1></b>\n",
        "\n",
        "Dr. Bingsen Wang\n",
        "\n",
        "1/1/2024\n",
        "</center>"
      ]
    },
    {
      "cell_type": "markdown",
      "source": [
        "#$V_{DS}$-$I_D$ Characteristics: Ohmic Region"
      ],
      "metadata": {
        "id": "x8hvmZGToTH7"
      }
    },
    {
      "cell_type": "markdown",
      "source": [
        "In the ohmic region, the following condition holds\n",
        "$$\\begin{align}\n",
        "  v_{GS} &\\gt V_{th}\\\\\n",
        "  v_{DS} &\\lt v_{GS} - V_{th}\n",
        "\\end{align}\\tag{1}$$\n",
        "where $V_{th}$ is the gate-source threshold voltage.\n",
        "\n",
        "In ohmic region, the drain current $i_D$ is\n",
        "$$ i_D =  K[2(v_{GS}-V_{th})v_{DS} - v_{DS}^2] \\tag{2}$$\n",
        "where $K$ is a constant determined by the physical parameters of the device."
      ],
      "metadata": {
        "id": "UXvOsUmNoXqO"
      }
    },
    {
      "cell_type": "markdown",
      "source": [
        "#$V_{DS}$-$I_D$ Characteristics: Active Region"
      ],
      "metadata": {
        "id": "Vv8fu2Jc2dnw"
      }
    },
    {
      "cell_type": "markdown",
      "source": [
        "In the active region, the following condition holds\n",
        "$$\\begin{align}\n",
        "  v_{GS} &\\gt V_{th}\\\\\n",
        "  v_{DS} &\\gt v_{GS} - V_{th}\n",
        "\\end{align}\\tag{3}$$\n",
        "where $V_{th}$ is the gate-source threshold voltage.\n",
        "\n",
        "In active region, the drain current $i_D$ is independent from the drain-source voltage\n",
        "$$ i_D =  K(v_{GS}-V_{th})^2 \\tag{4}$$\n",
        "where $K$ is a constant determined by the physical parameters of the device."
      ],
      "metadata": {
        "id": "NctVo6vN2dn5"
      }
    },
    {
      "cell_type": "markdown",
      "source": [
        "#Boundary between the Ohmic and Active Regions"
      ],
      "metadata": {
        "id": "LhRU3a6V4AdN"
      }
    },
    {
      "cell_type": "markdown",
      "source": [
        "On the boundary between the ohmic region and the active region, the following condition holds\n",
        "$$\\begin{align}\n",
        "  v_{GS} &\\gt V_{th}\\tag{5}\\\\\n",
        "  v_{DS} &= v_{GS} - V_{th}\\tag{6}\n",
        "\\end{align}$$\n",
        "where $V_{th}$ is the gate-source threshold voltage.\n",
        "\n",
        "Substituting (6) into (2) or (4) yields the drain current $i_D$ determined by\n",
        "$$i_D =  Kv_{DS}^2 \\tag{7}$$\n",
        "where $K$ is a constant determined by the physical parameters of the device."
      ],
      "metadata": {
        "id": "Caf9Exvj4Adm"
      }
    },
    {
      "cell_type": "markdown",
      "metadata": {
        "id": "Hv0YxDrWU4h8"
      },
      "source": [
        "#Python Code\n",
        "The Python code illustrates the VI characteristics of power MOSFETs."
      ]
    },
    {
      "cell_type": "code",
      "execution_count": null,
      "metadata": {
        "id": "XeGsHYTt8IXU"
      },
      "outputs": [],
      "source": [
        "import matplotlib\n",
        "from os import linesep\n",
        "from numpy import linspace,logspace,exp,log,fft,pi,arccos,cos,heaviside\n",
        "import matplotlib.pyplot as plt\n",
        "from scipy.integrate import quad\n",
        "from matplotlib import animation,rc\n",
        "rc('animation', html='jshtml')\n",
        "plt.rcParams.update({\"font.family\" : \"sans serif\",\"mathtext.fontset\" : \"cm\"})\n",
        "\n",
        "def iD(vGS,Vth,vDS,K): #ohmic and active regions\n",
        "  ids = heaviside(vGS-Vth,1)*(heaviside(vDS-(vGS-Vth),1)*K*(vGS - Vth)**2 +\n",
        "                             heaviside((vGS-Vth)-vDS,0)*K*(2*(vGS - Vth)*vDS - vDS**2))\n",
        "  return ids\n",
        "def iD_boundary(vDS,K): #boundary between ohmic and active regions\n",
        "  return K*vDS**2\n",
        "\n",
        "#parameters\n",
        "clst=['lightskyblue','violet','aqua','cornflowerblue','yellow','w',(.1,.1,.1)] #colors dark bg\n",
        "Nf = 100\n",
        "Vth = 4\n",
        "K=1 #determined by phsysical parameters such as material and device geometry\n",
        "vDS_max = 25\n",
        "vDS=linspace(0,vDS_max,Nf)\n",
        "vGS = linspace(7,15,9)\n",
        "vDS_b = linspace(0,vGS[-1]*1.05-Vth,Nf) #for boundary plotting\n",
        "iD_lst=[]\n",
        "for v in vGS:\n",
        "  iD_lst.append(iD(v,Vth,vDS,K))\n",
        "iD_max = max(iD_lst[-1])\n",
        "iD_b = iD_boundary(vDS_b,K) #boundary between active and ohmic regions\n",
        "\n",
        "#set up figures\n",
        "fig = plt.figure(figsize=(9,9),facecolor=clst[-1])\n",
        "ax_frame = [[0, 0, .95, .95], [-.1,1.1], [-.1,1.1]]# [pos-boundary, xlim, ylim]\n",
        "xn,xm,yn,ym = ax_frame[1]+ax_frame[2]\n",
        "ax=fig.add_axes(ax_frame[0],xlim=ax_frame[1], ylim=ax_frame[2],fc='none',) #no face color\n",
        "ax.axis('off')\n",
        "ax.annotate(\"\", (xm, 0), (xn, 0),arrowprops={'arrowstyle':\"->\",'color':clst[-2]}) #x-axis\n",
        "ax.annotate(\"\", (0,ym), (0,yn),arrowprops={'arrowstyle':\"->\",'color':clst[-2]}) #y-axis\n",
        "ax.text(xm-.02,0,r'$v_{DS}$',size=24,va='top',ha='right',color=clst[-2]) #x-axis label\n",
        "ax.text(.02,ym,r'$i_{D}$',size=24,va='top',color=clst[-2]) #x-axis label\n",
        "lines_iD = [] #lines for the family of iD-vDS curves\n",
        "for i in range(len(vGS)):\n",
        "  lines_iD.append(ax.plot([],[],lw=3,color=clst[i%4])[0])\n",
        "line_boundary = ax.plot([],[],lw=3,ls='--',color=clst[4])[0]\n",
        "# animation function. This is called sequentially\n",
        "def animate(i):\n",
        "  ii = i%Nf\n",
        "  k = int(i/Nf)\n",
        "  if ii==0:\n",
        "    print(k)\n",
        "  if k < len(vGS):\n",
        "    lines_iD[k].set_data(vDS[:ii+1]/vDS_max,iD_lst[k][:ii+1]/iD_max)\n",
        "    if ii==Nf-1:\n",
        "      ax.text(1,iD_lst[k][-1]/iD_max,'$v_{GS} = '+str(vGS[k])+'\\ V$ ',color=clst[-2],\n",
        "              size=20,ha='right', va='center',backgroundcolor=(.2,.2,.2))\n",
        "  else:\n",
        "    line_boundary.set_data(vDS_b[:ii+1]/vDS_max,iD_b[:ii+1]/iD_max)\n",
        "  return\n",
        "anim = animation.FuncAnimation(fig, animate, frames=Nf*(len(vGS)+1), interval=20)\n",
        "# anim #uncomment to generate animation in the output area\n",
        "anim.save(\"MOSFET_VIcurves.mp4\", fps=35, dpi = 120) #uncomment to save"
      ]
    }
  ]
}