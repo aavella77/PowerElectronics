{
  "nbformat": 4,
  "nbformat_minor": 0,
  "metadata": {
    "colab": {
      "provenance": [],
      "include_colab_link": true
    },
    "kernelspec": {
      "name": "python3",
      "display_name": "Python 3"
    }
  },
  "cells": [
    {
      "cell_type": "markdown",
      "metadata": {
        "id": "view-in-github",
        "colab_type": "text"
      },
      "source": [
        "<a href=\"https://colab.research.google.com/github/bingsen-wang/PowerElectronics/blob/main/PowerSwitchingDevices_MOSFET_RDSon_vGS_Temperature.ipynb\" target=\"_parent\"><img src=\"https://colab.research.google.com/assets/colab-badge.svg\" alt=\"Open In Colab\"/></a>"
      ]
    },
    {
      "cell_type": "markdown",
      "metadata": {
        "id": "jAMKoELNpsK-"
      },
      "source": [
        "<center><h1><b>$R_{DS(on)}$ of Power MOSFET: Temperature Dependency\n",
        "</h1></b>\n",
        "\n",
        "Dr. Bingsen Wang\n",
        "\n",
        "1/2/2024\n",
        "</center>"
      ]
    },
    {
      "cell_type": "markdown",
      "source": [
        "#$V_{DS}$-$I_D$ Characteristics: Ohmic Region"
      ],
      "metadata": {
        "id": "x8hvmZGToTH7"
      }
    },
    {
      "cell_type": "markdown",
      "source": [
        "In the ohmic region, the following condition holds\n",
        "$$\\begin{align}\n",
        "  v_{GS} &\\gt V_{th}\\\\\n",
        "  v_{DS} &\\lt v_{GS} - V_{th}\n",
        "\\end{align}\\tag{1}$$\n",
        "where $V_{th}$ is the gate-source threshold voltage.\n",
        "\n",
        "In ohmic region, the drain current $i_D$ is\n",
        "$$ i_D =  K[2(v_{GS}-V_{th})v_{DS} - v_{DS}^2] \\tag{2}$$\n",
        "where $K$ is a constant determined by the physical parameters of the device.\n",
        "\n",
        "The on resistance is\n",
        "$$R_{DS(on)} = \\frac{v_{DS}}{i_D}\\tag{3}$$\n",
        "\n",
        "Substituting (2) into (3) yields\n",
        "$$R_{DS(on)} = \\frac{1}{ K[2(v_{GS}-V_{th}) - v_{DS}]}\\tag{4}$$"
      ],
      "metadata": {
        "id": "UXvOsUmNoXqO"
      }
    },
    {
      "cell_type": "markdown",
      "source": [
        "#Temperature Dependency"
      ],
      "metadata": {
        "id": "VBy-PsgwcVD3"
      }
    },
    {
      "cell_type": "markdown",
      "source": [
        "##Constant $K$"
      ],
      "metadata": {
        "id": "tcDageWPe2Le"
      }
    },
    {
      "cell_type": "markdown",
      "source": [
        "Constant $K$ in (4) is temperature dependent since $K$ is proportional to carrier mobility. Let $K_0$ be the constant at reference temperature $T_0$ in Kelvin. At temperature $T$, the constant is determined by\n",
        "$$K(T) = K_0 \\left(\\frac{T}{T_0}\\right)^{k_\\mu}\\tag{5}$$\n",
        "where $k_\\mu$ is the fitting parameter with typical value of -1.5."
      ],
      "metadata": {
        "id": "N9ZH4L-WcZgl"
      }
    },
    {
      "cell_type": "markdown",
      "source": [
        "##Gate Threshold Voltag $V_{th}$"
      ],
      "metadata": {
        "id": "hsi5aXMWe4P6"
      }
    },
    {
      "cell_type": "markdown",
      "source": [
        "Let the threshold voltage at reference temerpature $T_0$ be $V_{th0}$. The threshold voltage at $T$ can be approximated as linear decrease\n",
        "$$V_{th}(T) = V_{th0} + k_{th}(T-T_0) \\tag{6}$$"
      ],
      "metadata": {
        "id": "F_LhFd_Qe9-i"
      }
    },
    {
      "cell_type": "markdown",
      "metadata": {
        "id": "Hv0YxDrWU4h8"
      },
      "source": [
        "#Python Code\n",
        "The Python code plots the on resistance $R_{DS(on)}$ for various $v_{DS}$ values."
      ]
    },
    {
      "cell_type": "code",
      "execution_count": null,
      "metadata": {
        "id": "XeGsHYTt8IXU"
      },
      "outputs": [],
      "source": [
        "import matplotlib\n",
        "from os import linesep\n",
        "from numpy import linspace,logspace,exp,log,fft,pi,arccos,cos,heaviside\n",
        "import matplotlib.pyplot as plt\n",
        "from scipy.integrate import quad\n",
        "from matplotlib import animation,rc\n",
        "rc('animation', html='jshtml')\n",
        "plt.rcParams.update({\"font.family\" : \"sans serif\",\"mathtext.fontset\" : \"cm\"})\n",
        "\n",
        "def Vth_T(T,kth,Vth0,T0):\n",
        "  return Vth0+kth*(T-T0)\n",
        "\n",
        "def K_T(T,T0,K0,ku):\n",
        "  return K0*(T/T0)**ku\n",
        "\n",
        "def Rds_on(vGS,Vth,vDS,K): #ohmic region\n",
        "  return 1/(K*(2*(vGS-Vth) - vDS))\n",
        "\n",
        "#parameters\n",
        "clst=['lightskyblue','violet','aqua','yellow','cornflowerblue','w',(.1,.1,.1)] #colors dark bg\n",
        "Nf = 200\n",
        "T0 = 25 # reference temperature in deg C\n",
        "K0=1 # constant K at reference temperature T0\n",
        "ku = -1.5 # fitting parameter\n",
        "Vth0 = 4.5 # threshold voltage at reference temperature T0\n",
        "T_min=-40\n",
        "Tmax = 175 # max temperature\n",
        "Vth_max = 3.5 #threshold voltage at temerature Tmax\n",
        "kth = (Vth_max - Vth0)/(Tmax - T0)\n",
        "T = linspace(T0,Tmax,4) #temperature series for plotting\n",
        "vDS_max = 1\n",
        "vDS=linspace(0.1,vDS_max,3)\n",
        "vGS = linspace(5,15,Nf)\n",
        "# print(vGS)\n",
        "Rds_lst=[]\n",
        "for Tk in T:\n",
        "  Rds_lst.append(Rds_on(vGS,Vth_T(Tk+273,kth,Vth0,T0+273),vDS[1],K_T(Tk+273,T0+273,K0,ku)))\n",
        "Rds_max = max(Rds_lst[0])\n",
        "vGS_max = max(vGS)\n",
        "\n",
        "#set up figures\n",
        "fig = plt.figure(figsize=(9,9),facecolor=clst[-1])\n",
        "ax_frame = [[0, 0, .95, .95], [.1,1.1], [-.1,1.1]]# [pos-boundary, xlim, ylim]\n",
        "xn,xm,yn,ym = ax_frame[1]+ax_frame[2]\n",
        "ax=fig.add_axes(ax_frame[0],xlim=ax_frame[1], ylim=ax_frame[2],fc='none',) #no face color\n",
        "ax.axis('off')\n",
        "ax.annotate(\"\", (xm, 0), (xn, 0),arrowprops={'arrowstyle':\"->\",'color':clst[-2]}) #x-axis\n",
        "ax.annotate(\"\", (xn+.05,ym), (xn+.05,yn),arrowprops={'arrowstyle':\"->\",'color':clst[-2]}) #y-axis\n",
        "ax.text(xm-.02,0,r'$v_{GS}$',size=24,va='top',ha='right',color=clst[-2]) #x-axis label\n",
        "ax.text(xn+.05,ym,r'$R_{DS(on)}$',size=24,va='top',color=clst[-2]) #x-axis label\n",
        "lines_Rds = [] #lines for the family of iD-vDS curves\n",
        "for i in range(len(vGS)):\n",
        "  lines_Rds.append(ax.plot([],[],lw=2,color=clst[i%5])[0])\n",
        "\n",
        "# animation function. This is called sequentially\n",
        "def animate(i):\n",
        "  ii = i%Nf\n",
        "  k = int(i/Nf)\n",
        "  if ii==0:\n",
        "    print(k) #for monitoring\n",
        "    ax.text(vGS[0]/vGS_max,Rds_lst[k][0]/Rds_max,'$T_j='+str(int(T[k]))+'^\\circ C$',ha='right',\n",
        "            va='center',color=clst[k%5],size=22)\n",
        "  lines_Rds[k].set_data(vGS[:ii+1]/vGS_max,Rds_lst[k][:ii+1]/Rds_max)\n",
        "  # lines_Rds[k].set_data(T[:ii+1]/Tmax,Rds_lst[k][:ii+1]/Rds_max)\n",
        "  return\n",
        "\n",
        "anim = animation.FuncAnimation(fig, animate, frames=Nf*(len(T)), interval=20)\n",
        "# anim #uncomment to generate animation in the output area\n",
        "anim.save(\"MOSFET_Rdson_temp.mp4\", fps=50, dpi = 120) #uncomment to save"
      ]
    }
  ]
}