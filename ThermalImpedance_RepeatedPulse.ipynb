{
  "nbformat": 4,
  "nbformat_minor": 0,
  "metadata": {
    "colab": {
      "provenance": [],
      "include_colab_link": true
    },
    "kernelspec": {
      "name": "python3",
      "display_name": "Python 3"
    }
  },
  "cells": [
    {
      "cell_type": "markdown",
      "metadata": {
        "id": "view-in-github",
        "colab_type": "text"
      },
      "source": [
        "<a href=\"https://colab.research.google.com/github/bingsen-wang/PowerElectronics/blob/main/ThermalImpedance_RepeatedPulse.ipynb\" target=\"_parent\"><img src=\"https://colab.research.google.com/assets/colab-badge.svg\" alt=\"Open In Colab\"/></a>"
      ]
    },
    {
      "cell_type": "markdown",
      "metadata": {
        "id": "jAMKoELNpsK-"
      },
      "source": [
        "<center><h1><b>Thermal Impedance of Repetitive Pulses\n",
        "</h1></b>\n",
        "\n",
        "Dr. Bingsen Wang\n",
        "\n",
        "12/30/2023\n",
        "</center>"
      ]
    },
    {
      "cell_type": "markdown",
      "source": [
        "#Transient Thermal Impedance of Single Pulse"
      ],
      "metadata": {
        "id": "x8hvmZGToTH7"
      }
    },
    {
      "cell_type": "markdown",
      "source": [
        "In most datasheet of power switching devices, there is transient thermal impedance that depends on the pulse duration of the power losses. The concept of transient thermal impedance may be confusing since it seems that the thermal impedance varies as the power loss input changes. This document explains how the time-independent impance corresonds to the so called transient impedance.\n",
        "\n",
        "The thermal impedance can be characterized with the Foster RC network.\n",
        "\n",
        "$$Z_{th}(s) = \\sum_{i=1}^{n}\\frac{R_i}{R_iC_is + 1}\\tag{1}$$\n",
        "\n",
        "Let the time constant $\\tau_i$ for the $i^{th}$ RC network be\n",
        "$$\\tau_i = R_iC_i\\tag{2}$$\n",
        "\n",
        "Then the thermal impedance can be rewritten as\n",
        "$$Z_{th}(s) = \\sum_{i=1}^{n}\\frac{R_i}{\\tau_is + 1}\\tag{3}$$\n",
        "\n",
        "The unit step response of the junction temperature (rise) is\n",
        "$$T_{j\\_sp}(s) = \\frac{1}{s}Z_{th}(s) = \\sum_{i=1}^{n}\\frac{R_i}{\\tau_is^2 + s}=\\sum_{i=1}^{n}R_i\\left(\\frac{1}{s}-\\frac{1}{s+{1\\over\\tau_i}}\\right)\\tag{4}$$\n",
        "\n",
        "The transient junction temperature rise in time domain is\n",
        "$$T_{j\\_sp}(t) = \\sum_{i=1}^{n}R_i\\left(1- e^{-{t\\over\\tau_i}}\\right)\\tag{5}$$\n",
        "\n",
        "The so-called transient thermal impedance essentially takes the junction temperature in response to unit step input as the impedance!"
      ],
      "metadata": {
        "id": "UXvOsUmNoXqO"
      }
    },
    {
      "cell_type": "markdown",
      "source": [
        "#Thermal Impedance for Repetitive Pulses"
      ],
      "metadata": {
        "id": "ne-TiljQ9Zh8"
      }
    },
    {
      "cell_type": "markdown",
      "source": [
        "For repetitive pulses, let the pulse duration be $T_p$ and the duty radio be $\\delta$. Then the frequency of the pulse $f$ is\n",
        "$$f= \\frac{\\delta}{T_p}\\tag{6}$$\n",
        "The repetivtive pulse of the power loss can then be modled as\n",
        "$$p(t) = \\Phi\\left[\\delta - \\frac{1}{\\pi}\\arccos\\left(\\cos\\frac{2\\pi\\delta}{T_p}t\\right)\\right]\\tag{7}$$\n",
        "\n",
        "By FFT, the power loss $p(t)$ can be decomposed to\n",
        "$$p(t) = \\sum_{n=-N}^{N}P_n(\\omega)e^{jn\\omega t}\\tag{8}$$\n",
        "where\n",
        "$$P_n(\\omega) = \\frac{\\omega}{2\\pi}\\int_0^{\\frac{2\\pi}{\\omega}}p(t)e^{-jn\\omega t}dt\\tag{9}$$\n",
        "\n",
        "Based on superposition, the junction temperature response to the repective-pulse input is\n",
        "$$T_{j\\_rp}(t) = \\sum_{n=-N}^{N}P_n(\\omega)Z_{th}(jn\\omega)e^{jn\\omega t}\\tag{10}$$\n",
        "\n",
        "The peak value of $T_{j\\_rp}(t)$ is a function of the duty ratio and the pulse duration.\n",
        "$$T_{j\\_peak}(T_p,\\delta) = \\max_t T_{j\\_rp}(t)\\tag{11}$$\n",
        "\n",
        "The Python code plots a family of curves $T_{j\\_peak}$ vs $T_p$ corresponding to different values of $\\delta$."
      ],
      "metadata": {
        "id": "t-Qj61a4-zad"
      }
    },
    {
      "cell_type": "markdown",
      "metadata": {
        "id": "Hv0YxDrWU4h8"
      },
      "source": [
        "#Python Code\n",
        "The Python code illustrates the real and reactive powers."
      ]
    },
    {
      "cell_type": "code",
      "execution_count": null,
      "metadata": {
        "id": "XeGsHYTt8IXU"
      },
      "outputs": [],
      "source": [
        "import matplotlib\n",
        "from os import linesep\n",
        "from numpy import linspace,logspace,exp,log,fft,pi,arccos,cos,heaviside\n",
        "import matplotlib.pyplot as plt\n",
        "from scipy.integrate import quad\n",
        "from matplotlib import animation,rc\n",
        "rc('animation', html='jshtml')\n",
        "plt.rcParams.update({\"font.family\" : \"sans serif\",\"mathtext.fontset\" : \"cm\"})\n",
        "\n",
        "def Tj_singlePulse(t,Rs,Cs):\n",
        "  T=0\n",
        "  for i,R in enumerate(Rs):\n",
        "    tau = R*Cs[i]\n",
        "    T += R*(1-exp(-t/tau))\n",
        "  return T\n",
        "def pulse(t,Tp,delta):\n",
        "  return heaviside(delta-1/pi*arccos(cos(2*pi*delta/Tp*t)),0)\n",
        "def Zth(s,Rs,Cs):\n",
        "  Z=0\n",
        "  for i in range(len(Rs)):\n",
        "    Z += Rs[i]/(Rs[i]*Cs[i]*s+1)\n",
        "  return Z\n",
        "def Tj_repetitivePulse(Tp,delta,Rs,Cs):\n",
        "  Tj_peak=[]\n",
        "  for k in range(len(Tp)):\n",
        "    f=delta/Tp[k]\n",
        "    t=linspace(0,1/f,1024)\n",
        "    pt = pulse(t,Tp[k],delta)\n",
        "    pt_fft=fft.rfft(pt)\n",
        "    Tj_fft=[]\n",
        "    for i in range(len(pt_fft)):\n",
        "      Tj_fft.append(pt_fft[i]*Zth(1j*i*2*pi*f,Rs,Cs))\n",
        "    Tjt = fft.irfft(Tj_fft)\n",
        "    Tj_peak.append(max(Tjt))\n",
        "  return Tj_peak\n",
        "\n",
        "#parameters\n",
        "clst=['lightskyblue','violet','aqua','cornflowerblue','yellow','w',(.1,.1,.1)] #colors dark bg\n",
        "# clst=['mediumblue','m','brown','c','r',(.1,.1,.1),'w'] #colors light bg\n",
        "Nf = 60\n",
        "t=logspace(-6,0,Nf)\n",
        "delta_lst = linspace(0.1,0.9,9)\n",
        "# print(delta_lst)\n",
        "\n",
        "#RC network\n",
        "R_lst = [2.748817E-3, 5.715661E-3, 4.153561E-2, 5.616478E-2, 0.3286516, 1.016057, 0.130071]\n",
        "C_lst = [2.916343E-5, 1.725521E-4, 2.092143E-4, 1.786133E-3, 2.129755E-3, 8.451135E-3, 0.0863404]\n",
        "Zth_sp = Tj_singlePulse(t,R_lst,C_lst)\n",
        "Zth_rp = []\n",
        "for delta in delta_lst:\n",
        "  Zth_rp.append(Tj_repetitivePulse(t,delta,R_lst,C_lst))\n",
        "\n",
        "fig = plt.figure(figsize=(16,9),facecolor=clst[-1])\n",
        "ax_frame = [[0.08, .08, .9, .9], [1e-6,1], [1e-2,10]]# [pos-boundary, xlim, ylim]\n",
        "ax=fig.add_axes(ax_frame[0],xlim=ax_frame[1], ylim=ax_frame[2],fc='none', xscale='log',yscale='log') #no face color\n",
        "ax1=fig.add_axes([.7,.1,.3,.5],xlim=[0,1], ylim=[0,1]) #for plotting parameters\n",
        "ax1.axis('off')\n",
        "ax.set_xlabel(r'Pulse Duration $T_p\\ (s)$',size=20,color=clst[-2])\n",
        "ax.set_ylabel(r'$Z_{th}\\ (^\\circ C/W)$',size=20,color=clst[-2])\n",
        "ax.tick_params(labelcolor=clst[-2],labelsize=16)\n",
        "ax.grid(True,which='major',color=clst[2], alpha=0.5)\n",
        "ax.grid(True,which='minor',color=clst[-2], alpha=0.3)\n",
        "ax.minorticks_on()\n",
        "for spine in ax.spines.values():\n",
        "  spine.set_edgecolor(clst[0])\n",
        "lines_Zth=[]\n",
        "for i in range(len(delta_lst)+1):\n",
        "  lines_Zth.append(ax.plot([],[],color=clst[i%5],lw=4)[0])\n",
        "for i in range(len(R_lst)):\n",
        "  ax1.text(0,.9-.12*i,'$R_'+str(i+1)+'='+str('{:e}'.format(R_lst[i]))+'$',\n",
        "                         color=clst[-2],backgroundcolor=(.2,.2,.2),size=16)\n",
        "  ax1.text(0.5,.9-.12*i,'$C_'+str(i+1)+'='+str('{:e}'.format(C_lst[i]))+'$',\n",
        "                         color=clst[-2],backgroundcolor=(.2,.2,.2),size=16)\n",
        "# animation function. This is called sequentially\n",
        "def animate(i):\n",
        "  ii = i%Nf\n",
        "  k = int(i/Nf)\n",
        "  if k==0:\n",
        "    if ii==0:\n",
        "      ax.text(1e-6,Zth_sp[0],'Single Pulse',size=12,backgroundcolor=clst[-2])\n",
        "    lines_Zth[k].set_data(t[:ii+1],Zth_sp[:ii+1])\n",
        "  else:\n",
        "    if ii==0:\n",
        "      ax.text(1e-6,Zth_rp[k-1][0],r'$\\delta='+str(round(delta_lst[k-1],1))+'$',size=14,backgroundcolor=clst[-2])\n",
        "    lines_Zth[k].set_data(t[:ii+1],Zth_rp[k-1][:ii+1])\n",
        "  return\n",
        "anim = animation.FuncAnimation(fig, animate, frames=Nf*10, interval=20)\n",
        "# anim #uncomment to generate animation in the output area\n",
        "anim.save(\"ThermalImpedance_RepetitivePulse.mp4\", fps=25, dpi = 120) #uncomment to save"
      ]
    }
  ]
}