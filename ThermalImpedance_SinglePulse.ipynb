{
  "nbformat": 4,
  "nbformat_minor": 0,
  "metadata": {
    "colab": {
      "provenance": [],
      "include_colab_link": true
    },
    "kernelspec": {
      "name": "python3",
      "display_name": "Python 3"
    }
  },
  "cells": [
    {
      "cell_type": "markdown",
      "metadata": {
        "id": "view-in-github",
        "colab_type": "text"
      },
      "source": [
        "<a href=\"https://colab.research.google.com/github/bingsen-wang/PowerElectronics/blob/main/ThermalImpedance_SinglePulse.ipynb\" target=\"_parent\"><img src=\"https://colab.research.google.com/assets/colab-badge.svg\" alt=\"Open In Colab\"/></a>"
      ]
    },
    {
      "cell_type": "markdown",
      "metadata": {
        "id": "jAMKoELNpsK-"
      },
      "source": [
        "<center><h1><b>Thermal Impedance\n",
        "</h1></b>\n",
        "\n",
        "Dr. Bingsen Wang\n",
        "\n",
        "12/29/2023\n",
        "</center>"
      ]
    },
    {
      "cell_type": "markdown",
      "source": [
        "#Transient Thermal Impedance"
      ],
      "metadata": {
        "id": "x8hvmZGToTH7"
      }
    },
    {
      "cell_type": "markdown",
      "source": [
        "In most datasheet of power switching devices, there is transient thermal impedance that depends on the pulse duration of the power losses. The concept of transient thermal impedance may be confusing since it seems that the thermal impedance varies as the power loss input changes. This document explains how the time-independent impance corresonds to the so called transient impedance.\n",
        "\n",
        "The thermal impedance can be characterized with the Foster RC network.\n",
        "\n",
        "$$Z_{th}(s) = \\sum_{i=1}^{n}\\frac{R_i}{R_iC_is + 1}\\tag{1}$$\n",
        "\n",
        "Let the time constant $\\tau_i$ for the $i^{th}$ RC network be\n",
        "$$\\tau_i = R_iC_i\\tag{2}$$\n",
        "\n",
        "Then the thermal impedance can be rewritten as\n",
        "$$Z_{th}(s) = \\sum_{i=1}^{n}\\frac{R_i}{\\tau_is + 1}\\tag{3}$$\n",
        "\n",
        "The unit step response of the junction temperature (rise) is\n",
        "$$T_j(s) = \\frac{1}{s}Z_{th}(s) = \\sum_{i=1}^{n}\\frac{R_i}{\\tau_is^2 + s}=\\sum_{i=1}^{n}R_i\\left(\\frac{1}{s}-\\frac{1}{s+{1\\over\\tau_i}}\\right)\\tag{4}$$\n",
        "\n",
        "The transient junction temperature rise in time domain is\n",
        "$$T_j(t) = \\sum_{i=1}^{n}R_i\\left(1- e^{-{t\\over\\tau_i}}\\right)\\tag{5}$$\n",
        "\n",
        "The so-called transient thermal impedance essentially takes the junction temperature in response to unit step input as the impedance!"
      ],
      "metadata": {
        "id": "UXvOsUmNoXqO"
      }
    },
    {
      "cell_type": "markdown",
      "metadata": {
        "id": "Hv0YxDrWU4h8"
      },
      "source": [
        "#Python Code\n",
        "The Python code illustrates the real and reactive powers."
      ]
    },
    {
      "cell_type": "code",
      "execution_count": null,
      "metadata": {
        "id": "XeGsHYTt8IXU"
      },
      "outputs": [],
      "source": [
        "import matplotlib\n",
        "from os import linesep\n",
        "from numpy import logspace,exp,log\n",
        "import matplotlib.pyplot as plt\n",
        "from scipy.integrate import quad\n",
        "from matplotlib import animation,rc\n",
        "rc('animation', html='jshtml')\n",
        "plt.rcParams.update({\"font.family\" : \"sans serif\",\"mathtext.fontset\" : \"cm\"})\n",
        "\n",
        "def Tj(t,Rs,Cs):\n",
        "  T=0\n",
        "  for i,R in enumerate(Rs):\n",
        "    tau = R*Cs[i]\n",
        "    T += R*(1-exp(-t/tau))\n",
        "  return T\n",
        "\n",
        "#parameters\n",
        "clst=['lightskyblue','violet','aqua','cornflowerblue','yellow','w',(.1,.1,.1)] #colors dark bg\n",
        "# clst=['mediumblue','m','brown','c','r',(.1,.1,.1),'w'] #colors light bg\n",
        "Nf = 280\n",
        "t=logspace(-6,0,Nf)\n",
        "\n",
        "#RC network\n",
        "R_lst = [2.748817E-03, 5.715661E-03, 4.153561E-02, 5.616478E-02,\n",
        "         0.3286516, 1.016057, 0.130071]\n",
        "C_lst = [2.916343E-05, 1.725521E-04, 2.092143E-04, 1.786133E-03,\n",
        "         2.129755E-03, 8.451135E-03, 0.0863404]\n",
        "Zth = Tj(t,R_lst,C_lst)\n",
        "\n",
        "fig = plt.figure(figsize=(16,9),facecolor=clst[-1])\n",
        "ax_frame = [[0.08, .08, .9, .9], [1e-6,1], [1e-2,10],\n",
        "            ]# [pos-boundary, xlim, ylim] for subplots 16:9\n",
        "\n",
        "ax=fig.add_axes(ax_frame[0],xlim=ax_frame[1], ylim=ax_frame[2],fc='none') #no face color\n",
        "ax1=fig.add_axes([.6,.1,.3,.5],xlim=[0,1], ylim=[0,1],fc=(.3,.3,.3)) #no face color\n",
        "ax1.axis('off')\n",
        "ax1.patch.set_visible(True)\n",
        "ax.set_yscale('log')\n",
        "ax.set_xscale('log')\n",
        "ax.set_xlabel(r'$t\\ (s)$',size=20,color=clst[-2])\n",
        "ax.set_ylabel(r'$Z_{th}\\ (^\\circ C/W)$',size=20,color=clst[-2])\n",
        "ax.tick_params(labelcolor=clst[-2],labelsize=16)\n",
        "ax.grid(True,which='major',color=clst[2], alpha=0.5)\n",
        "ax.grid(True,which='minor',color=clst[-2], alpha=0.3)\n",
        "ax.minorticks_on()\n",
        "for spine in ax.spines.values():\n",
        "  spine.set_edgecolor(clst[0])\n",
        "line_Zth = ax.plot([],[],color=clst[1],lw=4)[0]\n",
        "txt_Rs, txt_Cs = ([],[])\n",
        "for i in range(len(R_lst)):\n",
        "  txt_Rs.append(ax1.text(0,.9-.12*i,'$R_'+str(i+1)+'='+str('{:e}'.format(R_lst[i]))+'$',\n",
        "                         color=clst[-2],size=16,alpha=0))\n",
        "for i in range(len(C_lst)):\n",
        "  txt_Cs.append(ax1.text(0.5,.9-.12*i,'$C_'+str(i+1)+'='+str('{:e}'.format(C_lst[i]))+'$',\n",
        "                         color=clst[-2],size=16,alpha=0))\n",
        "kk=int(Nf/(len(txt_Cs)+len(txt_Rs)))\n",
        "# animation function. This is called sequentially\n",
        "def animate(i):\n",
        "  line_Zth.set_data(t[:i+1],Zth[:i+1])\n",
        "  if i%kk==0:\n",
        "    if int(i/kk)<len(txt_Rs):\n",
        "      txt_Rs[int(i/kk)].set_backgroundcolor((.2,.2,.2))\n",
        "      txt_Rs[int(i/kk)].set_alpha(1)\n",
        "    else:\n",
        "      txt_Cs[int(i/kk)-len(txt_Rs)].set_backgroundcolor((.2,.2,.2))\n",
        "      txt_Cs[int(i/kk)-len(txt_Rs)].set_alpha(1)\n",
        "  return\n",
        "anim = animation.FuncAnimation(fig, animate, frames=Nf, interval=20)\n",
        "# anim #uncomment to generate animation in the output area\n",
        "# to save the animation, uncomment the following line\n",
        "anim.save(\"ThermalImpedance_singleShot.mp4\", fps=25, dpi = 120)"
      ]
    }
  ]
}